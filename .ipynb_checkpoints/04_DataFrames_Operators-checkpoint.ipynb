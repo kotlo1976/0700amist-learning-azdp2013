{
 "cells": [
  {
   "cell_type": "markdown",
   "id": "3199be34-a7ef-4ff0-80f5-b1b6ada23c09",
   "metadata": {},
   "source": [
    "## SQL Programming with Apache Spark"
   ]
  },
  {
   "cell_type": "code",
   "execution_count": 1,
   "id": "ac6a1154-0386-4a12-b0a9-816370bfb0b0",
   "metadata": {},
   "outputs": [],
   "source": [
    "from pyspark.sql import SparkSession\n",
    "\n",
    "spark = SparkSession.builder.getOrCreate()"
   ]
  },
  {
   "cell_type": "code",
   "execution_count": 3,
   "id": "aa939b9b-e7cb-4d54-883d-c6923a62db28",
   "metadata": {},
   "outputs": [],
   "source": [
    "airindexDF = spark.read.csv('data/air-index.csv',header=True)"
   ]
  },
  {
   "cell_type": "code",
   "execution_count": 4,
   "id": "920d8055-1571-4b2f-b8a2-805205c869de",
   "metadata": {},
   "outputs": [
    {
     "name": "stdout",
     "output_type": "stream",
     "text": [
      "+-------+--------------+-----------------+--------------------+-------------------+----------+----------+------------+-------------+-------------+-------------+\n",
      "|country|         state|             city|             station|        last_update|  latitude| longitude|pollutant_id|pollutant_min|pollutant_max|pollutant_avg|\n",
      "+-------+--------------+-----------------+--------------------+-------------------+----------+----------+------------+-------------+-------------+-------------+\n",
      "|  India|Andhra_Pradesh|        Anantapur|Gulzarpet, Ananta...|18-07-2024 07:00:00| 14.675886| 77.593027|         SO2|            3|            4|            3|\n",
      "|  India|Andhra_Pradesh|         Chittoor|Gangineni Cheruvu...|18-07-2024 07:00:00| 13.204880| 79.097889|        PM10|           NA|           NA|           NA|\n",
      "|  India|Andhra_Pradesh|           Kadapa|Yerramukkapalli, ...|18-07-2024 07:00:00| 14.465052| 78.824187|        PM10|           34|           52|           46|\n",
      "|  India|Andhra_Pradesh|           Kadapa|Yerramukkapalli, ...|18-07-2024 07:00:00| 14.465052| 78.824187|         NH3|            1|            1|            1|\n",
      "|  India|Andhra_Pradesh|Rajamahendravaram|Anand Kala Kshetr...|18-07-2024 07:00:00|16.9872867|81.7363176|         NH3|            1|            3|            2|\n",
      "+-------+--------------+-----------------+--------------------+-------------------+----------+----------+------------+-------------+-------------+-------------+\n",
      "only showing top 5 rows\n",
      "\n"
     ]
    }
   ],
   "source": [
    "airindexDF.show(5)"
   ]
  }
 ],
 "metadata": {
  "kernelspec": {
   "display_name": "Python 3 (ipykernel)",
   "language": "python",
   "name": "python3"
  },
  "language_info": {
   "codemirror_mode": {
    "name": "ipython",
    "version": 3
   },
   "file_extension": ".py",
   "mimetype": "text/x-python",
   "name": "python",
   "nbconvert_exporter": "python",
   "pygments_lexer": "ipython3",
   "version": "3.12.5"
  }
 },
 "nbformat": 4,
 "nbformat_minor": 5
}
