{
 "cells": [
  {
   "cell_type": "markdown",
   "id": "3199be34-a7ef-4ff0-80f5-b1b6ada23c09",
   "metadata": {},
   "source": [
    "## DataFrames in Apache Spark"
   ]
  },
  {
   "cell_type": "code",
   "execution_count": null,
   "id": "ac6a1154-0386-4a12-b0a9-816370bfb0b0",
   "metadata": {},
   "outputs": [],
   "source": [
    "from pyspark.sql import SparkSession\n",
    "\n",
    "spark = SparkSession.builder.getOrCreate()"
   ]
  },
  {
   "cell_type": "code",
   "execution_count": null,
   "id": "324aa87f-742a-46e3-9ff8-2be40d34186f",
   "metadata": {},
   "outputs": [],
   "source": [
    "print(type(airindexDF))"
   ]
  },
  {
   "cell_type": "code",
   "execution_count": null,
   "id": "1058a7d3-c68d-4811-8be9-a91d357b6fc7",
   "metadata": {},
   "outputs": [],
   "source": [
    "airindexDF = spark.read.csv('data/air-index.csv')"
   ]
  },
  {
   "cell_type": "code",
   "execution_count": null,
   "id": "3427c981-39b7-4990-9037-2f60bc6b205b",
   "metadata": {},
   "outputs": [],
   "source": []
  }
 ],
 "metadata": {
  "kernelspec": {
   "display_name": "Python 3 (ipykernel)",
   "language": "python",
   "name": "python3"
  },
  "language_info": {
   "codemirror_mode": {
    "name": "ipython",
    "version": 3
   },
   "file_extension": ".py",
   "mimetype": "text/x-python",
   "name": "python",
   "nbconvert_exporter": "python",
   "pygments_lexer": "ipython3",
   "version": "3.12.5"
  }
 },
 "nbformat": 4,
 "nbformat_minor": 5
}
